{
 "cells": [
  {
   "cell_type": "markdown",
   "metadata": {},
   "source": [
    "Для сравнения эффективности баннеров используем Z-test, т.е. считаем, что можно применить ЦПТ и считать нормальным распределение средних величин конверсий по кликам и установкам."
   ]
  },
  {
   "cell_type": "markdown",
   "metadata": {},
   "source": [
    "H0 - гипотеза: конверсия одинакова для обоих баннеров"
   ]
  },
  {
   "cell_type": "markdown",
   "metadata": {},
   "source": [
    "H1 - гипотеза: конверсия для второго баннера выше"
   ]
  },
  {
   "cell_type": "code",
   "execution_count": 1,
   "metadata": {},
   "outputs": [],
   "source": [
    "from scipy.stats import norm\n",
    "import numpy as np"
   ]
  },
  {
   "cell_type": "code",
   "execution_count": 2,
   "metadata": {},
   "outputs": [],
   "source": [
    "#Средние значения и стандартные отклонения для конверсии в клики для двух баннеров \n",
    "R1 = 0.01\n",
    "R2 = 0.015\n",
    "S1 = ((R1*(1-R1))**0.5)/1000\n",
    "S2 = ((R2*(1-R2))**0.5)/1000"
   ]
  },
  {
   "cell_type": "code",
   "execution_count": 3,
   "metadata": {},
   "outputs": [],
   "source": [
    "#Средние значения и стандартные отклонения для конверсии в установки для двух баннеров \n",
    "r1 = 440/1e+6\n",
    "r2 = 5e-4\n",
    "s1 = ((r1*(1-r1))**0.5)/1000\n",
    "s2 = ((r2*(1-r2))**0.5)/1000"
   ]
  },
  {
   "cell_type": "code",
   "execution_count": 11,
   "metadata": {},
   "outputs": [],
   "source": [
    "#фиксируем вероятности ошибок 1-го и 2-го рода\n",
    "alpha = 0.05\n",
    "beta = 0.2"
   ]
  },
  {
   "cell_type": "code",
   "execution_count": 25,
   "metadata": {},
   "outputs": [
    {
     "name": "stdout",
     "output_type": "stream",
     "text": [
      "Необходимое число показов: 3219\n",
      "Порог, выше которого отклоняется H_0 R = 0.0102\n",
      "Необходимое число показов: 822679\n",
      "Порог, выше которого отклоняется H_0 r = 0.00048\n"
     ]
    }
   ],
   "source": [
    "def get_size(theta_c, theta_t, alpha, beta):\n",
    "    # вычисляем квантили нормального распределения\n",
    "    t_alpha = norm.ppf(1 - alpha, loc=0, scale=1)\n",
    "    t_beta = norm.ppf(beta, loc=0, scale=1)\n",
    "    # решаем уравнение относительно n\n",
    "    n = t_alpha*np.sqrt(theta_t*(1 - theta_t))\n",
    "    n -= t_beta*np.sqrt(theta_c*(1 - theta_c))\n",
    "    n /= theta_c - theta_t\n",
    "    return int(np.ceil(n*n))\n",
    "\n",
    "n = get_size(R1, R2, alpha, beta)\n",
    "print('Необходимое число показов:',n)\n",
    "print('Порог, выше которого отклоняется H_0 R =',round(R1 + norm.ppf(1 - alpha, loc=0, scale=1)*np.sqrt(R1*(1 - R1)/n_max),4))\n",
    "\n",
    "n = get_size(r1, r2, alpha, beta)\n",
    "print('Необходимое число показов:',n)\n",
    "print('Порог, выше которого отклоняется H_0 r =',round(r1 + norm.ppf(1 - alpha, loc=0, scale=1)*np.sqrt(r1*(1 - r1)/n_max),5))"
   ]
  },
  {
   "cell_type": "markdown",
   "metadata": {},
   "source": [
    "При выбранных выше вероятностях ошибок 1-го и 2-го рода мы можем отвергнуть нулевую гипотезу и принять альтернативную. Таким образом, можно сказать, что баннер 2 имеет более высокую конверсию в загрузки и в клики, чем первый."
   ]
  },
  {
   "cell_type": "code",
   "execution_count": null,
   "metadata": {},
   "outputs": [],
   "source": []
  }
 ],
 "metadata": {
  "kernelspec": {
   "display_name": "Python 3",
   "language": "python",
   "name": "python3"
  },
  "language_info": {
   "codemirror_mode": {
    "name": "ipython",
    "version": 3
   },
   "file_extension": ".py",
   "mimetype": "text/x-python",
   "name": "python",
   "nbconvert_exporter": "python",
   "pygments_lexer": "ipython3",
   "version": "3.7.3"
  }
 },
 "nbformat": 4,
 "nbformat_minor": 2
}
